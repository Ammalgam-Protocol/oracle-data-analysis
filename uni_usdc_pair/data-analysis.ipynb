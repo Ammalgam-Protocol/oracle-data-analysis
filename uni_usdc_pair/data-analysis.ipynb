{
 "cells": [
  {
   "cell_type": "code",
   "execution_count": 1,
   "id": "39921289",
   "metadata": {},
   "outputs": [],
   "source": [
    "import pickle\n",
    "from pandas import DataFrame\n",
    "import pandas as pd\n",
    "import numpy as np\n",
    "import math\n",
    "import matplotlib.pyplot as plt\n",
    "import ipywidgets as widgets\n",
    "from ipywidgets import Layout\n",
    "import pathlib\n",
    "\n",
    "plt.rcParams[\"figure.figsize\"] = (14, 7) # (w, h)\n",
    "pair_address = \"0xEBFb684dD2b01E698ca6c14F10e4f289934a54D6\"\n",
    "cache_df_path = f\"data/{pair_address}_by_block_df.pkl\"\n",
    "sync_swap_df = f\"data/{pair_address}_df.pkl\"\n",
    "\n",
    "state_df = pickle.load(open(sync_swap_df, \"rb\"))\n",
    "state_df.head()\n",
    "\n",
    "def index_by_block_and_cache(state_df: DataFrame) -> DataFrame:\n",
    "    block_df = (state_df[['block', 'amount0In', 'amount1In', 'amount0Out', 'amount1Out', 'reserve0', 'reserve1']]).groupby(\n",
    "        state_df.block, as_index=False).agg({\n",
    "            'block': 'first', 'amount0In': sum, 'amount1In': sum, 'amount0Out': sum, 'amount1Out': sum, 'reserve0': 'first', 'reserve1': 'first'\n",
    "        }).copy(deep=True)\n",
    "    block_df.block = block_df.block.astype(int)\n",
    "\n",
    "    block_df = block_df.set_index('block').reindex(np.arange(block_df.block.min(), block_df.block.max() + 1)).reset_index()\n",
    "    block_df.reserve0 = block_df.reserve0.fillna(method='bfill')\n",
    "    block_df.reserve1 = block_df.reserve1.fillna(method='bfill')\n",
    "    block_df = block_df.fillna(value=0)\n",
    "    block_df.to_pickle(cache_df_path)\n",
    "    return block_df\n",
    "\n",
    "# block_df is 172M due to intoducing a row for each block, build it and cache it to run cell faster on future runs.\n",
    "block_df = pickle.load(open(cache_df_path, \"rb\")) \\\n",
    "    if pathlib.Path(cache_df_path).exists() \\\n",
    "    else index_by_block_and_cache(pickle.load(open(sync_swap_df, \"rb\")))\n",
    "\n",
    "#rates_df = DataFrame({\n",
    "#    \"block\": block_df[\"block\"],\n",
    "#    \"y_per_x\": block_df[\"reserve1\"] / block_df[\"reserve0\"],\n",
    "#    \"x_per_y\": block_df[\"reserve0\"] / block_df[\"reserve1\"]\n",
    "#})\n"
   ]
  },
  {
   "cell_type": "code",
   "execution_count": 10,
   "id": "568c7020",
   "metadata": {},
   "outputs": [
    {
     "data": {
      "text/html": [
       "<div>\n",
       "<style scoped>\n",
       "    .dataframe tbody tr th:only-of-type {\n",
       "        vertical-align: middle;\n",
       "    }\n",
       "\n",
       "    .dataframe tbody tr th {\n",
       "        vertical-align: top;\n",
       "    }\n",
       "\n",
       "    .dataframe thead th {\n",
       "        text-align: right;\n",
       "    }\n",
       "</style>\n",
       "<table border=\"1\" class=\"dataframe\">\n",
       "  <thead>\n",
       "    <tr style=\"text-align: right;\">\n",
       "      <th></th>\n",
       "      <th>sender</th>\n",
       "      <th>to</th>\n",
       "      <th>amount0In</th>\n",
       "      <th>amount1In</th>\n",
       "      <th>amount0Out</th>\n",
       "      <th>amount1Out</th>\n",
       "      <th>block</th>\n",
       "      <th>reserve0</th>\n",
       "      <th>reserve1</th>\n",
       "    </tr>\n",
       "  </thead>\n",
       "  <tbody>\n",
       "    <tr>\n",
       "      <th>0</th>\n",
       "      <td>0x00000047bB99ea4D791bb749D970DE71EE0b1A34</td>\n",
       "      <td>0xd3d2E2692501A5c9Ca623199D38826e513033a17</td>\n",
       "      <td>0</td>\n",
       "      <td>89730000</td>\n",
       "      <td>13202197110903059021</td>\n",
       "      <td>0</td>\n",
       "      <td>19017444</td>\n",
       "      <td>0</td>\n",
       "      <td>0</td>\n",
       "    </tr>\n",
       "  </tbody>\n",
       "</table>\n",
       "</div>"
      ],
      "text/plain": [
       "                                       sender  \\\n",
       "0  0x00000047bB99ea4D791bb749D970DE71EE0b1A34   \n",
       "\n",
       "                                           to amount0In  amount1In  \\\n",
       "0  0xd3d2E2692501A5c9Ca623199D38826e513033a17         0   89730000   \n",
       "\n",
       "             amount0Out  amount1Out     block reserve0  reserve1  \n",
       "0  13202197110903059021           0  19017444        0         0  "
      ]
     },
     "execution_count": 10,
     "metadata": {},
     "output_type": "execute_result"
    }
   ],
   "source": [
    "#block_df.head()\n",
    "#len(state_df)\n",
    "filtered_df = state_df[(state_df['reserve0'] == 0) & (state_df['reserve1'] == 0)]\n",
    "filtered_df.head()"
   ]
  },
  {
   "cell_type": "markdown",
   "id": "920a283f-e5ac-4688-99ef-70436c3c6614",
   "metadata": {},
   "source": [
    "# Reserve based price vs Volume weighted average price\n",
    "\n",
    "Price is usually measured by the state of the reserves at the end of a block. Another way to meausre price is considering the rate each swap executes at. This can be chaotic with multiple swaps in either direction in a block, but we might group these rates within a block using a volume weighted average. Lets compare how these values would differ from a reserved based price"
   ]
  },
  {
   "cell_type": "code",
   "execution_count": null,
   "id": "6fc4b53a",
   "metadata": {},
   "outputs": [],
   "source": [
    "prices_df = DataFrame(block_df[\"block\"])\n",
    "\n",
    "# Add reserve based price\n",
    "prices_df[\"reserve0/reserve1\"] = block_df[\"reserve0\"] / block_df[\"reserve1\"]\n",
    "\n",
    "# Add Volume based price, use last price if no volume exists\n",
    "prices_df[\"volume0/volume1\"] = (block_df[\"amount0In\"] + block_df[\"amount0Out\"]).divide(\n",
    "    (block_df[\"amount1In\"] + block_df[\"amount1Out\"]).replace({ 0 : np.nan })).fillna(method='ffill')\n",
    "\n",
    "# seperated volume values\n",
    "prices_df[\"volume_sell_0_0per1\"] = (block_df[\"amount0In\"]).divide(\n",
    "    (block_df[\"amount1Out\"]).replace({ 0 : np.nan })).fillna(method='ffill')\n",
    "prices_df[\"volume_sell_1_0per1\"] = (block_df[\"amount0Out\"]).divide(\n",
    "    (block_df[\"amount1In\"]).replace({ 0 : np.nan })).fillna(method='ffill')\n",
    "prices_df[\"volume_sell_0_1per0\"] = 1 / prices_df[\"volume_sell_0_0per1\"]\n",
    "prices_df[\"volume_sell_1_1per0\"] = 1 / prices_df[\"volume_sell_1_0per1\"]\n",
    "\n",
    "prices_df = prices_df.set_index('block')"
   ]
  },
  {
   "cell_type": "code",
   "execution_count": null,
   "id": "a186b047",
   "metadata": {},
   "outputs": [],
   "source": [
    "prices_df.head()"
   ]
  },
  {
   "cell_type": "code",
   "execution_count": null,
   "id": "20750698",
   "metadata": {},
   "outputs": [],
   "source": [
    "prices_df[[\"volume0/volume1\", \"reserve0/reserve1\"]] \\\n",
    "    [(16300150 <= prices_df.index) & (prices_df.index <= 16300450)].plot(linewidth=2)"
   ]
  },
  {
   "cell_type": "code",
   "execution_count": null,
   "id": "ef1a1c72",
   "metadata": {},
   "outputs": [],
   "source": [
    "price_compare = prices_df[[\"reserve0/reserve1\", \"volume_sell_0_0per1\", \"volume_sell_1_0per1\", \"volume0/volume1\"]] \\\n",
    "    [(16300300 <= prices_df.index) & (prices_df.index <= 16300450)]\n",
    "plt.plot(price_compare[[\"reserve0/reserve1\"]], label = \"reserve0/reserve1\", linewidth=5)\n",
    "plt.plot(price_compare[[\"volume_sell_0_0per1\", \"volume_sell_1_0per1\"]], label = [\"volume_sell_0_0per1\", \"volume_sell_1_0per1\"], linewidth=4)\n",
    "plt.plot(price_compare[[\"volume0/volume1\"]], label = \"volume0/volume1\", linewidth=2)\n",
    "plt.xlabel(\"block\")\n",
    "plt.ylabel('price')\n",
    "plt.legend()\n",
    "plt.show()"
   ]
  },
  {
   "cell_type": "markdown",
   "id": "bb3a784d",
   "metadata": {},
   "source": [
    "# 30 Minute Oracle Comparison on ETH-POOL Uniswap V2 Pair\n",
    "\n",
    "Here we look at the ETH-POOL pair, a low liquidity trading pair, to understand how variout price calculations for our oracle would work. \n",
    "\n",
    "## Construct Oracles\n",
    "\n",
    "Our dataframe starts with swaps and reserves prior to swaps. Using this data we crunch some numbers to build build various oraclse. Since we do not have time which our scanner does not grab, we use blocks thus BWAP rather than TWAP. If every block was 12 seconds exactly, this would be the same, but since that is not the case, there are some minor erorrs. "
   ]
  },
  {
   "cell_type": "code",
   "execution_count": null,
   "id": "6153bcec",
   "metadata": {},
   "outputs": [],
   "source": [
    "class OracleBuilder:\n",
    "    tick_log = math.log(1.0001)\n",
    "\n",
    "    def __init__(self, block_df: DataFrame):\n",
    "        self.block_df = block_df\n",
    "        self.df = DataFrame(block_df.loc[:, (\"block\")])\n",
    "    \n",
    "    @staticmethod\n",
    "    def new_builder(block_df: DataFrame) -> 'OracleBuilder':\n",
    "        return OracleBuilder(block_df)\n",
    "    \n",
    "    def add_reserve_price(self) -> 'OracleBuilder':\n",
    "        self.df[\"current_price\"] = (self.block_df['reserve0'] / self.block_df['reserve1'])\n",
    "        return self\n",
    "    \n",
    "    def add_shifted_reserve_price(self, minutes) -> 'OracleBuilder':\n",
    "        half_blocks = int(self.minutes_to_blocks(minutes) / 2)\n",
    "        current_price = self.df[\"current_price\"] if \"current_price\" in self.df.columns else self.block_df['reserve0'] / self.block_df['reserve1']\n",
    "        self.df[f\"shifted_price_{half_blocks}\"] = current_price.shift(periods=half_blocks)\n",
    "        return self\n",
    "    \n",
    "    def add_twap(self, minutes) -> 'OracleBuilder':\n",
    "        blocks = self.minutes_to_blocks(minutes)\n",
    "        cumsum_x_per_y = self.block_df.loc[:, ('reserve0')].divide(self.block_df['reserve1']).cumsum()\n",
    "        cumsum_y_per_x = self.block_df.loc[:, ('reserve1')].divide(self.block_df['reserve0']).cumsum()\n",
    "        self.df[f\"twap_{minutes}_x_per_y\"] = (cumsum_x_per_y - cumsum_x_per_y.shift(blocks)).divide(blocks)\n",
    "        return self\n",
    "    \n",
    "    def add_geom_twap(self, minutes) -> 'OracleBuilder':\n",
    "        blocks = self.minutes_to_blocks(minutes)\n",
    "        tick_sum = (np.log((self.block_df['reserve0'] / self.block_df['reserve1']).astype(float)) / self.tick_log).cumsum()\n",
    "        self.df[F\"geom_twap_{minutes}_x_per_y\"] = np.power(\n",
    "            1.0001, (tick_sum - tick_sum.shift(blocks)) / blocks\n",
    "        )\n",
    "        return self\n",
    "    \n",
    "    def add_vwap(self, minutes) -> 'OracleBuilder':\n",
    "        blocks = self.minutes_to_blocks(minutes)\n",
    "        cumsum_x_in = self.block_df[\"amount0In\"].cumsum()\n",
    "        cumsum_y_out = self.block_df[\"amount1Out\"].cumsum()\n",
    "        cumsum_y_in = self.block_df[\"amount1In\"].cumsum()\n",
    "        cumsum_x_out = self.block_df[\"amount0Out\"].cumsum()\n",
    "        self.df[f\"vwap_{minutes}_x_per_y\"] = (\n",
    "            cumsum_x_in + cumsum_x_out - (cumsum_x_in + cumsum_x_out).shift(blocks)).divide(\n",
    "            (cumsum_y_in + cumsum_y_out - (cumsum_y_in + cumsum_y_out).shift(blocks)).replace({ 0 : np.nan }))\n",
    "        return self\n",
    "    \n",
    "    def add_proposed(self, minutes) -> 'OracleBuilder':\n",
    "        blocks = self.minutes_to_blocks(minutes)\n",
    "        geom_0In_1Out = (np.log((self.block_df[\"amount0In\"] / self.block_df[\"amount1Out\"].replace({0: np.nan})).fillna(method='ffill')) / self.tick_log).cumsum()\n",
    "        geom_1In_0Out = (np.log((self.block_df[\"amount0Out\"] / self.block_df[\"amount1In\"].replace({0: np.nan})).fillna(method='ffill')) / self.tick_log).cumsum()\n",
    "        self.df[f'proposed_0In_1Out_oracle_{minutes}'] = np.power(1.0001, (geom_0In_1Out - geom_0In_1Out.shift(blocks)) / blocks)\n",
    "        self.df[f'proposed_1In_0Out_oracle_{minutes}'] = np.power(1.0001, (geom_1In_0Out - geom_1In_0Out.shift(blocks)) / blocks)\n",
    "        return self\n",
    "\n",
    "    @staticmethod\n",
    "    def minutes_to_blocks(minutes):\n",
    "        return minutes * 5 # minutes * 60 second / 12 second per block\n",
    "\n",
    "    def build(self) -> DataFrame:\n",
    "        return self.df\n",
    "\n",
    "\n",
    "oracle_df = OracleBuilder.new_builder(block_df) \\\n",
    "    .add_reserve_price() \\\n",
    "    .add_shifted_reserve_price(30) \\\n",
    "    .add_twap(30) \\\n",
    "    .add_geom_twap(30) \\\n",
    "    .add_vwap(30) \\\n",
    "    .add_proposed(30) \\\n",
    "    .build()"
   ]
  },
  {
   "cell_type": "code",
   "execution_count": null,
   "id": "2ec711b9",
   "metadata": {},
   "outputs": [],
   "source": [
    "oracle_df[[\"block\", \"current_price\"]].plot(linewidth=.75, x=\"block\", ylabel=\"POOL/ETH\", title=\"POOL per ETH Reserves Based Price Uniswap V2 Pair\")"
   ]
  },
  {
   "cell_type": "markdown",
   "id": "f1a51b64-faf9-4365-a48f-30ad0a5425f2",
   "metadata": {},
   "source": [
    "# Proposed oracle calculationsin comparison to twap and geometric twap\n",
    "\n",
    "Our proposed oracle calculation tracks what assets are tracking rather than what the state of the reserves in the pair are. Below we show each oracle calculation along with the price based on the reserves shifted forward to overlay with what the oracles which lag. The twaps break from the reserves briefly until the opposite direction trades occur at which point the twaps start decreaeasing towards the new reserve prices. The rate at which the swaps execute at are higher than the values the twaps track. The proposed oracle more closely follows the actual price, not the reserve based price. "
   ]
  },
  {
   "cell_type": "code",
   "execution_count": null,
   "id": "ff41527d",
   "metadata": {},
   "outputs": [],
   "source": [
    "oracle_df.drop('current_price', axis=1)[(16298700 <= oracle_df.block) & (\n",
    "    # oracle_df.index <= 16300600\n",
    "    oracle_df.block <= 16298900\n",
    "\n",
    ")].plot(x=\"block\")\n"
   ]
  },
  {
   "cell_type": "code",
   "execution_count": null,
   "id": "2f4c3c12-e783-4c8f-a5b6-8a35e7570f09",
   "metadata": {},
   "outputs": [],
   "source": [
    "oracle_df.drop('current_price', axis=1)[(16300300 <= oracle_df.block) & (\n",
    "    oracle_df.block <= 16300600\n",
    ")].plot(x=\"block\")"
   ]
  },
  {
   "cell_type": "markdown",
   "id": "d2cbc87a-0857-47d2-81e5-a4074ed31531",
   "metadata": {},
   "source": [
    "# Largest price moves in one block\n",
    "\n",
    "Below we look at the largest moves in one block. Our first list has 17/20 in the first 24 hours of the pair getting created. "
   ]
  },
  {
   "cell_type": "code",
   "execution_count": null,
   "id": "366692bc-eb5c-429a-a254-64863aad874f",
   "metadata": {},
   "outputs": [],
   "source": [
    "big_moves_df = DataFrame({\n",
    "    \"block\": block_df[\"block\"],\n",
    "    \"amount0In_per_reserve0\": block_df[\"amount0In\"] / block_df[\"reserve0\"],\n",
    "    \"amount1In_per_reserve1\": block_df[\"amount1In\"] / block_df[\"reserve1\"],\n",
    "    \"amount0Net_per_reserve0\": (block_df[\"amount0In\"] - block_df[\"amount0Out\"]) / block_df[\"reserve0\"],\n",
    "    \"amount1Net_per_reserve1\": (block_df[\"amount1In\"] - block_df[\"amount1Out\"]) / block_df[\"reserve1\"],\n",
    "})\n",
    "\n",
    "big_moves_df[\"max_amountIn_per_reserve\"] = big_moves_df[[\n",
    "    \"amount0In_per_reserve0\", \"amount1In_per_reserve1\"\n",
    "]].max(axis=1)\n",
    "big_moves_df[\"max_amountNet_per_reserve\"] = big_moves_df[[\n",
    "    \"amount0Net_per_reserve0\", \"amount1Net_per_reserve1\"\n",
    "]].max(axis=1)\n",
    "\n",
    "\n",
    "big_moves_df.sort_values(\"max_amountNet_per_reserve\", ascending=False).reset_index(drop=True)\n",
    "big_moves_df.head()"
   ]
  },
  {
   "cell_type": "markdown",
   "id": "f68d1a15-56a4-4c68-88e5-982c15feed7b",
   "metadata": {},
   "source": [
    "Lets drop the first 24 hours to look at the largest moves after the market has found some equilibrium after initialization"
   ]
  },
  {
   "cell_type": "code",
   "execution_count": null,
   "id": "b1be09da-3b84-4e91-8ff4-ea5bd73a8108",
   "metadata": {},
   "outputs": [],
   "source": [
    "sorted_net_moves_df = big_moves_df.iloc[7200:].sort_values(\"max_amountNet_per_reserve\", ascending=False).reset_index(drop=True)\n",
    "sorted_net_moves_df.head(10)"
   ]
  },
  {
   "cell_type": "markdown",
   "id": "4cecbe74-d57e-4359-b0ce-118bb61347d2",
   "metadata": {},
   "source": [
    "## Examining some of the largest moves \n",
    "\n",
    "Below is a chart of the largest moves. "
   ]
  },
  {
   "cell_type": "code",
   "execution_count": null,
   "id": "765fac9b-ca2b-446e-8446-07976590e785",
   "metadata": {},
   "outputs": [],
   "source": [
    "sorted_net_moves_df[(sorted_net_moves_df.index  <= 25)][[\"max_amountIn_per_reserve\", \"max_amountNet_per_reserve\"]].plot()"
   ]
  },
  {
   "cell_type": "markdown",
   "id": "8ab83a5b-ba0f-4381-9787-aecf4d44a5da",
   "metadata": {},
   "source": [
    "#### Looking at how the market and oracles behave after the largest shift in price"
   ]
  },
  {
   "cell_type": "code",
   "execution_count": null,
   "id": "c0c1ec4f-4876-432c-a436-370e4ed646a1",
   "metadata": {},
   "outputs": [],
   "source": [
    "b = sorted_net_moves_df[\"block\"][0]\n",
    "block_df[(b -5 <= block_df[\"block\"]) & (block_df[\"block\"] <= b + 20)]"
   ]
  },
  {
   "cell_type": "code",
   "execution_count": null,
   "id": "eb2c5f5a-e202-4859-b07a-feb6f0def7e1",
   "metadata": {},
   "outputs": [],
   "source": [
    "oracle_df[(b - 5 <= oracle_df.block)&(oracle_df.block <= b + 300)] \\\n",
    "    .drop([\"vwap_30_x_per_y\"], axis=1) \\\n",
    "    .plot(x=\"block\", figsize=(12,6))"
   ]
  },
  {
   "cell_type": "markdown",
   "id": "712e3be2-6522-4a85-a680-5b3a74b73063",
   "metadata": {},
   "source": [
    "#### Interesting series of trades to come back to and look at\n",
    "\n",
    "price fluctuates betwee 0.01 ETH / POOL to 0.026 ETH/Poool "
   ]
  },
  {
   "cell_type": "code",
   "execution_count": null,
   "id": "bce7bac7",
   "metadata": {},
   "outputs": [],
   "source": [
    "r = (11882900 <= oracle_df.block) & (oracle_df.block <=11883550)\n",
    "fig = plt.figure()\n",
    "ax = fig.add_subplot(1, 1, 1)\n",
    "ax.plot((oracle_df.drop(\n",
    "    [\n",
    "        'block',\n",
    "        'current_price',\n",
    "        # \"shifted_price\", \n",
    "        \"vwap_30_x_per_y\"], axis=1))[r])\n",
    "b = 2900\n"
   ]
  }
 ],
 "metadata": {
  "kernelspec": {
   "display_name": "Python 3 (ipykernel)",
   "language": "python",
   "name": "python3"
  },
  "language_info": {
   "codemirror_mode": {
    "name": "ipython",
    "version": 3
   },
   "file_extension": ".py",
   "mimetype": "text/x-python",
   "name": "python",
   "nbconvert_exporter": "python",
   "pygments_lexer": "ipython3",
   "version": "3.10.12"
  }
 },
 "nbformat": 4,
 "nbformat_minor": 5
}
